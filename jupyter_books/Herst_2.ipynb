{
 "cells": [
  {
   "cell_type": "code",
   "execution_count": 1,
   "id": "a1d062a6-5ba2-4228-be8e-f520c5f3a9d7",
   "metadata": {},
   "outputs": [],
   "source": []
  },
  {
   "cell_type": "code",
   "execution_count": 23,
   "id": "c0ba74e9-f11e-4049-bdf3-a564ae4bdfde",
   "metadata": {},
   "outputs": [
    {
     "name": "stdout",
     "output_type": "stream",
     "text": [
      "Collecting nolds\n",
      "  Downloading nolds-0.6.1-py2.py3-none-any.whl.metadata (7.0 kB)\n",
      "Requirement already satisfied: numpy<3.0,>1.0 in /opt/anaconda3/lib/python3.11/site-packages (from nolds) (1.26.4)\n",
      "Requirement already satisfied: future in /opt/anaconda3/lib/python3.11/site-packages (from nolds) (0.18.3)\n",
      "Requirement already satisfied: setuptools in /opt/anaconda3/lib/python3.11/site-packages (from nolds) (68.2.2)\n",
      "Downloading nolds-0.6.1-py2.py3-none-any.whl (225 kB)\n",
      "\u001b[2K   \u001b[90m━━━━━━━━━━━━━━━━━━━━━━━━━━━━━━━━━━━━━━━━\u001b[0m \u001b[32m225.1/225.1 kB\u001b[0m \u001b[31m1.4 MB/s\u001b[0m eta \u001b[36m0:00:00\u001b[0ma \u001b[36m0:00:01\u001b[0m\n",
      "\u001b[?25hInstalling collected packages: nolds\n",
      "Successfully installed nolds-0.6.1\n",
      "Note: you may need to restart the kernel to use updated packages.\n"
     ]
    }
   ],
   "source": [
    "pip install nolds"
   ]
  },
  {
   "cell_type": "code",
   "execution_count": 3,
   "id": "177fbe7e-6bc4-4666-857c-1f4b4a66a964",
   "metadata": {},
   "outputs": [
    {
     "name": "stdout",
     "output_type": "stream",
     "text": [
      "Requirement already satisfied: hurst in /opt/anaconda3/lib/python3.11/site-packages (0.0.5)\n",
      "Requirement already satisfied: pandas>=0.18 in /opt/anaconda3/lib/python3.11/site-packages (from hurst) (2.2.3)\n",
      "Requirement already satisfied: numpy>=1.10 in /opt/anaconda3/lib/python3.11/site-packages (from hurst) (1.26.4)\n",
      "Requirement already satisfied: python-dateutil>=2.8.2 in /opt/anaconda3/lib/python3.11/site-packages (from pandas>=0.18->hurst) (2.9.0.post0)\n",
      "Requirement already satisfied: pytz>=2020.1 in /opt/anaconda3/lib/python3.11/site-packages (from pandas>=0.18->hurst) (2023.3.post1)\n",
      "Requirement already satisfied: tzdata>=2022.7 in /opt/anaconda3/lib/python3.11/site-packages (from pandas>=0.18->hurst) (2023.3)\n",
      "Requirement already satisfied: six>=1.5 in /opt/anaconda3/lib/python3.11/site-packages (from python-dateutil>=2.8.2->pandas>=0.18->hurst) (1.16.0)\n",
      "Note: you may need to restart the kernel to use updated packages.\n"
     ]
    }
   ],
   "source": [
    "pip install hurst"
   ]
  },
  {
   "cell_type": "code",
   "execution_count": 86,
   "id": "7b65965c-7e00-4b24-ab85-9d09f00d7bf9",
   "metadata": {},
   "outputs": [],
   "source": [
    "import pandas as pd\n",
    "import seaborn as sns"
   ]
  },
  {
   "cell_type": "code",
   "execution_count": 2,
   "id": "28678d0e-58cf-4144-98c0-8e7d0915a5c1",
   "metadata": {},
   "outputs": [
    {
     "name": "stdout",
     "output_type": "stream",
     "text": [
      "6784\n",
      "      identifier _half_year  rating_numeric_cat                      _ro_type  \\\n",
      "6      106000547    2017-H1                   4  CBNK - кредитная организация   \n",
      "7      106000547    2017-H2                   5  CBNK - кредитная организация   \n",
      "8      106000547    2022-H1                   5  CBNK - кредитная организация   \n",
      "39     274062111    2023-H2                   3  CBNK - кредитная организация   \n",
      "41     274062111    2024-H2                   3  CBNK - кредитная организация   \n",
      "...          ...        ...                 ...                           ...   \n",
      "5603  8602190258    2022-H1                   3  CBNK - кредитная организация   \n",
      "5604  8602190258    2023-H1                   3  CBNK - кредитная организация   \n",
      "5623  8622002375    2018-H2                   6  CBNK - кредитная организация   \n",
      "5674  9703077050    2024-H2                   4  CBNK - кредитная организация   \n",
      "5729  9721194461    2024-H2                   4  CBNK - кредитная организация   \n",
      "\n",
      "         agency  \n",
      "6     Expert RA  \n",
      "7     Expert RA  \n",
      "8     Expert RA  \n",
      "39    Expert RA  \n",
      "41    Expert RA  \n",
      "...         ...  \n",
      "5603  Expert RA  \n",
      "5604  Expert RA  \n",
      "5623  Expert RA  \n",
      "5674  Expert RA  \n",
      "5729  Expert RA  \n",
      "\n",
      "[1192 rows x 5 columns]\n"
     ]
    },
    {
     "name": "stderr",
     "output_type": "stream",
     "text": [
      "/var/folders/0w/pg719rr9519435t25t6yf2hm0000gn/T/ipykernel_75590/3108210756.py:24: DeprecationWarning: DataFrameGroupBy.apply operated on the grouping columns. This behavior is deprecated, and in a future version of pandas the grouping columns will be excluded from the operation. Either pass `include_groups=False` to exclude the groupings or explicitly select the grouping columns after groupby to silence this warning.\n",
      "  df_filled = df_filtered.groupby(\"identifier\", group_keys=False).apply(fill_missing_ratings).reset_index(drop=True)\n"
     ]
    }
   ],
   "source": [
    "df = pd.read_excel(\"witn_new_rat_ag_num_cat_catnum.xlsx\")\n",
    "\n",
    "# Фильтрация по _ro_type (исключаем строки, начинающиеся на \"T\")\n",
    "df_cur = df.loc[~df[\"_ro_type\"].str.startswith(\"T\", na=False)]\n",
    "print(len(df_cur))\n",
    "# Фильтрация по нужным колонкам\n",
    "columns_needed = [\"rating_numeric_cat\", \"_date\", \"identifier\", \"_ro_type\", \"agency\"]\n",
    "df_filtered = df_cur[columns_needed].copy()\n",
    "\n",
    "# Добавляем колонки \"год\" и \"полугодие\"\n",
    "df_filtered[\"_year\"] = df_filtered[\"_date\"].dt.year\n",
    "df_filtered[\"_half\"] = df_filtered[\"_date\"].dt.month.apply(lambda x: \"H1\" if x <= 6 else \"H2\")\n",
    "df_filtered[\"_half_year\"] = df_filtered[\"_year\"].astype(str) + \"-\" + df_filtered[\"_half\"]\n",
    "\n",
    "# Сортируем данные по компании и дате\n",
    "df_filtered = df_filtered.sort_values(by=[\"identifier\", \"_date\"])\n",
    "\n",
    "# Функция для заполнения пропущенных рейтингов\n",
    "def fill_missing_ratings(df):\n",
    "    df[\"rating_numeric_cat\"] = df[\"rating_numeric_cat\"].ffill()  # Заполняем пропуски последним известным значением\n",
    "    return df\n",
    "\n",
    "# Применяем функцию для каждой компании, убираем дублирующийся индекс\n",
    "df_filled = df_filtered.groupby(\"identifier\", group_keys=False).apply(fill_missing_ratings).reset_index(drop=True)\n",
    "\n",
    "# Выбираем последний рейтинг в каждом полугодии\n",
    "df_half_year = df_filled.groupby([\"identifier\", \"_half_year\"], as_index=False).last()\n",
    "\n",
    "# Оставляем только нужные колонки\n",
    "df_half_year = df_half_year[[\"identifier\", \"_half_year\", \"rating_numeric_cat\", \"_ro_type\", \"agency\"]]\n",
    "df_half_year = df_half_year[(df_half_year[\"_ro_type\"] == \"CBNK - кредитная организация\") & (df_half_year[\"agency\"] == \"Expert RA\")]\n",
    "\n",
    "# Выводим результат\n",
    "print(df_half_year)\n"
   ]
  },
  {
   "cell_type": "code",
   "execution_count": 3,
   "id": "3df46943-6b50-4b25-97f6-9e457bff6b6b",
   "metadata": {},
   "outputs": [
    {
     "name": "stderr",
     "output_type": "stream",
     "text": [
      "/opt/anaconda3/lib/python3.11/site-packages/nolds/measures.py:2160: RuntimeWarning: choosing nvals = [4, 5] , DFA with less than ten data points is extremely unreliable\n",
      "  warnings.warn(msg.format(nvals), RuntimeWarning)\n",
      "/opt/anaconda3/lib/python3.11/site-packages/nolds/measures.py:2160: RuntimeWarning: choosing nvals = [8, 9] , DFA with less than ten data points is extremely unreliable\n",
      "  warnings.warn(msg.format(nvals), RuntimeWarning)\n"
     ]
    },
    {
     "name": "stdout",
     "output_type": "stream",
     "text": [
      "    identifier      H_DFA\n",
      "0    106000547        NaN\n",
      "1    274062111        NaN\n",
      "2    276016368        NaN\n",
      "3    411006129        NaN\n",
      "4    541012405        NaN\n",
      "5    541016015   0.523755\n",
      "6    901001063        NaN\n",
      "7   1001011328        NaN\n",
      "8   1101300820   0.390158\n",
      "9   1102011300        NaN\n",
      "10  1300034972        NaN\n",
      "11  1326021671   1.726301\n",
      "12  1326024785   2.606284\n",
      "13  1435126628        NaN\n",
      "14  1435138944  11.395824\n",
      "15  1626000087        NaN\n",
      "16  1627000724        NaN\n",
      "17  1644004905        NaN\n",
      "18  1650002455        NaN\n",
      "19  1650025163        NaN\n"
     ]
    },
    {
     "name": "stderr",
     "output_type": "stream",
     "text": [
      "/opt/anaconda3/lib/python3.11/site-packages/nolds/measures.py:51: RuntimeWarning: RANSAC did not reach consensus, using numpy's polyfit\n",
      "  warnings.warn(\n",
      "/opt/anaconda3/lib/python3.11/site-packages/nolds/measures.py:2160: RuntimeWarning: choosing nvals = [6, 7] , DFA with less than ten data points is extremely unreliable\n",
      "  warnings.warn(msg.format(nvals), RuntimeWarning)\n",
      "/opt/anaconda3/lib/python3.11/site-packages/nolds/measures.py:51: RuntimeWarning: RANSAC did not reach consensus, using numpy's polyfit\n",
      "  warnings.warn(\n",
      "/opt/anaconda3/lib/python3.11/site-packages/nolds/measures.py:2160: RuntimeWarning: choosing nvals = [3, 4] , DFA with less than ten data points is extremely unreliable\n",
      "  warnings.warn(msg.format(nvals), RuntimeWarning)\n",
      "/opt/anaconda3/lib/python3.11/site-packages/nolds/measures.py:51: RuntimeWarning: RANSAC did not reach consensus, using numpy's polyfit\n",
      "  warnings.warn(\n",
      "/opt/anaconda3/lib/python3.11/site-packages/nolds/measures.py:2160: RuntimeWarning: choosing nvals = [4, 5] , DFA with less than ten data points is extremely unreliable\n",
      "  warnings.warn(msg.format(nvals), RuntimeWarning)\n",
      "/opt/anaconda3/lib/python3.11/site-packages/nolds/measures.py:51: RuntimeWarning: RANSAC did not reach consensus, using numpy's polyfit\n",
      "  warnings.warn(\n",
      "/opt/anaconda3/lib/python3.11/site-packages/nolds/measures.py:2160: RuntimeWarning: choosing nvals = [6, 7] , DFA with less than ten data points is extremely unreliable\n",
      "  warnings.warn(msg.format(nvals), RuntimeWarning)\n",
      "/opt/anaconda3/lib/python3.11/site-packages/nolds/measures.py:51: RuntimeWarning: RANSAC did not reach consensus, using numpy's polyfit\n",
      "  warnings.warn(\n",
      "/opt/anaconda3/lib/python3.11/site-packages/nolds/measures.py:2160: RuntimeWarning: choosing nvals = [3, 4] , DFA with less than ten data points is extremely unreliable\n",
      "  warnings.warn(msg.format(nvals), RuntimeWarning)\n",
      "/opt/anaconda3/lib/python3.11/site-packages/nolds/measures.py:2160: RuntimeWarning: choosing nvals = [6, 7] , DFA with less than ten data points is extremely unreliable\n",
      "  warnings.warn(msg.format(nvals), RuntimeWarning)\n",
      "/opt/anaconda3/lib/python3.11/site-packages/nolds/measures.py:51: RuntimeWarning: RANSAC did not reach consensus, using numpy's polyfit\n",
      "  warnings.warn(\n",
      "/opt/anaconda3/lib/python3.11/site-packages/nolds/measures.py:2160: RuntimeWarning: choosing nvals = [6, 7] , DFA with less than ten data points is extremely unreliable\n",
      "  warnings.warn(msg.format(nvals), RuntimeWarning)\n",
      "/opt/anaconda3/lib/python3.11/site-packages/nolds/measures.py:2160: RuntimeWarning: choosing nvals = [5, 6] , DFA with less than ten data points is extremely unreliable\n",
      "  warnings.warn(msg.format(nvals), RuntimeWarning)\n",
      "/opt/anaconda3/lib/python3.11/site-packages/nolds/measures.py:2160: RuntimeWarning: choosing nvals = [4, 5] , DFA with less than ten data points is extremely unreliable\n",
      "  warnings.warn(msg.format(nvals), RuntimeWarning)\n",
      "/opt/anaconda3/lib/python3.11/site-packages/nolds/measures.py:51: RuntimeWarning: RANSAC did not reach consensus, using numpy's polyfit\n",
      "  warnings.warn(\n",
      "/opt/anaconda3/lib/python3.11/site-packages/nolds/measures.py:2160: RuntimeWarning: choosing nvals = [7, 8] , DFA with less than ten data points is extremely unreliable\n",
      "  warnings.warn(msg.format(nvals), RuntimeWarning)\n",
      "/opt/anaconda3/lib/python3.11/site-packages/nolds/measures.py:51: RuntimeWarning: RANSAC did not reach consensus, using numpy's polyfit\n",
      "  warnings.warn(\n",
      "/opt/anaconda3/lib/python3.11/site-packages/nolds/measures.py:2160: RuntimeWarning: choosing nvals = [5, 6] , DFA with less than ten data points is extremely unreliable\n",
      "  warnings.warn(msg.format(nvals), RuntimeWarning)\n",
      "/opt/anaconda3/lib/python3.11/site-packages/nolds/measures.py:51: RuntimeWarning: RANSAC did not reach consensus, using numpy's polyfit\n",
      "  warnings.warn(\n",
      "/opt/anaconda3/lib/python3.11/site-packages/nolds/measures.py:2160: RuntimeWarning: choosing nvals = [4, 5] , DFA with less than ten data points is extremely unreliable\n",
      "  warnings.warn(msg.format(nvals), RuntimeWarning)\n",
      "/opt/anaconda3/lib/python3.11/site-packages/nolds/measures.py:51: RuntimeWarning: RANSAC did not reach consensus, using numpy's polyfit\n",
      "  warnings.warn(\n",
      "/opt/anaconda3/lib/python3.11/site-packages/nolds/measures.py:2160: RuntimeWarning: choosing nvals = [3, 4] , DFA with less than ten data points is extremely unreliable\n",
      "  warnings.warn(msg.format(nvals), RuntimeWarning)\n",
      "/opt/anaconda3/lib/python3.11/site-packages/nolds/measures.py:51: RuntimeWarning: RANSAC did not reach consensus, using numpy's polyfit\n",
      "  warnings.warn(\n",
      "/opt/anaconda3/lib/python3.11/site-packages/nolds/measures.py:2160: RuntimeWarning: choosing nvals = [6, 7] , DFA with less than ten data points is extremely unreliable\n",
      "  warnings.warn(msg.format(nvals), RuntimeWarning)\n",
      "/opt/anaconda3/lib/python3.11/site-packages/nolds/measures.py:51: RuntimeWarning: RANSAC did not reach consensus, using numpy's polyfit\n",
      "  warnings.warn(\n",
      "/opt/anaconda3/lib/python3.11/site-packages/nolds/measures.py:2160: RuntimeWarning: choosing nvals = [6, 7] , DFA with less than ten data points is extremely unreliable\n",
      "  warnings.warn(msg.format(nvals), RuntimeWarning)\n",
      "/opt/anaconda3/lib/python3.11/site-packages/nolds/measures.py:51: RuntimeWarning: RANSAC did not reach consensus, using numpy's polyfit\n",
      "  warnings.warn(\n",
      "/opt/anaconda3/lib/python3.11/site-packages/nolds/measures.py:2160: RuntimeWarning: choosing nvals = [7, 8] , DFA with less than ten data points is extremely unreliable\n",
      "  warnings.warn(msg.format(nvals), RuntimeWarning)\n",
      "/opt/anaconda3/lib/python3.11/site-packages/nolds/measures.py:2160: RuntimeWarning: choosing nvals = [3, 4] , DFA with less than ten data points is extremely unreliable\n",
      "  warnings.warn(msg.format(nvals), RuntimeWarning)\n",
      "/opt/anaconda3/lib/python3.11/site-packages/nolds/measures.py:51: RuntimeWarning: RANSAC did not reach consensus, using numpy's polyfit\n",
      "  warnings.warn(\n",
      "/opt/anaconda3/lib/python3.11/site-packages/nolds/measures.py:2160: RuntimeWarning: choosing nvals = [4, 5] , DFA with less than ten data points is extremely unreliable\n",
      "  warnings.warn(msg.format(nvals), RuntimeWarning)\n",
      "/opt/anaconda3/lib/python3.11/site-packages/nolds/measures.py:51: RuntimeWarning: RANSAC did not reach consensus, using numpy's polyfit\n",
      "  warnings.warn(\n",
      "/opt/anaconda3/lib/python3.11/site-packages/nolds/measures.py:2160: RuntimeWarning: choosing nvals = [7, 8] , DFA with less than ten data points is extremely unreliable\n",
      "  warnings.warn(msg.format(nvals), RuntimeWarning)\n",
      "/opt/anaconda3/lib/python3.11/site-packages/nolds/measures.py:51: RuntimeWarning: RANSAC did not reach consensus, using numpy's polyfit\n",
      "  warnings.warn(\n",
      "/opt/anaconda3/lib/python3.11/site-packages/nolds/measures.py:2160: RuntimeWarning: choosing nvals = [4, 5] , DFA with less than ten data points is extremely unreliable\n",
      "  warnings.warn(msg.format(nvals), RuntimeWarning)\n",
      "/opt/anaconda3/lib/python3.11/site-packages/nolds/measures.py:51: RuntimeWarning: RANSAC did not reach consensus, using numpy's polyfit\n",
      "  warnings.warn(\n",
      "/opt/anaconda3/lib/python3.11/site-packages/nolds/measures.py:2160: RuntimeWarning: choosing nvals = [8, 9] , DFA with less than ten data points is extremely unreliable\n",
      "  warnings.warn(msg.format(nvals), RuntimeWarning)\n",
      "/opt/anaconda3/lib/python3.11/site-packages/nolds/measures.py:51: RuntimeWarning: RANSAC did not reach consensus, using numpy's polyfit\n",
      "  warnings.warn(\n",
      "/opt/anaconda3/lib/python3.11/site-packages/sklearn/metrics/_regression.py:918: UndefinedMetricWarning: R^2 score is not well-defined with less than two samples.\n",
      "  warnings.warn(msg, UndefinedMetricWarning)\n",
      "/opt/anaconda3/lib/python3.11/site-packages/nolds/measures.py:2160: RuntimeWarning: choosing nvals = [5, 6] , DFA with less than ten data points is extremely unreliable\n",
      "  warnings.warn(msg.format(nvals), RuntimeWarning)\n",
      "/opt/anaconda3/lib/python3.11/site-packages/nolds/measures.py:51: RuntimeWarning: RANSAC did not reach consensus, using numpy's polyfit\n",
      "  warnings.warn(\n",
      "/opt/anaconda3/lib/python3.11/site-packages/nolds/measures.py:2160: RuntimeWarning: choosing nvals = [6, 7] , DFA with less than ten data points is extremely unreliable\n",
      "  warnings.warn(msg.format(nvals), RuntimeWarning)\n",
      "/opt/anaconda3/lib/python3.11/site-packages/nolds/measures.py:51: RuntimeWarning: RANSAC did not reach consensus, using numpy's polyfit\n",
      "  warnings.warn(\n",
      "/opt/anaconda3/lib/python3.11/site-packages/nolds/measures.py:2160: RuntimeWarning: choosing nvals = [4, 5] , DFA with less than ten data points is extremely unreliable\n",
      "  warnings.warn(msg.format(nvals), RuntimeWarning)\n",
      "/opt/anaconda3/lib/python3.11/site-packages/nolds/measures.py:51: RuntimeWarning: RANSAC did not reach consensus, using numpy's polyfit\n",
      "  warnings.warn(\n",
      "/opt/anaconda3/lib/python3.11/site-packages/nolds/measures.py:2160: RuntimeWarning: choosing nvals = [7, 8] , DFA with less than ten data points is extremely unreliable\n",
      "  warnings.warn(msg.format(nvals), RuntimeWarning)\n",
      "/opt/anaconda3/lib/python3.11/site-packages/nolds/measures.py:51: RuntimeWarning: RANSAC did not reach consensus, using numpy's polyfit\n",
      "  warnings.warn(\n",
      "/opt/anaconda3/lib/python3.11/site-packages/nolds/measures.py:2160: RuntimeWarning: choosing nvals = [3, 4] , DFA with less than ten data points is extremely unreliable\n",
      "  warnings.warn(msg.format(nvals), RuntimeWarning)\n",
      "/opt/anaconda3/lib/python3.11/site-packages/nolds/measures.py:2160: RuntimeWarning: choosing nvals = [4, 5] , DFA with less than ten data points is extremely unreliable\n",
      "  warnings.warn(msg.format(nvals), RuntimeWarning)\n",
      "/opt/anaconda3/lib/python3.11/site-packages/nolds/measures.py:51: RuntimeWarning: RANSAC did not reach consensus, using numpy's polyfit\n",
      "  warnings.warn(\n",
      "/opt/anaconda3/lib/python3.11/site-packages/nolds/measures.py:2160: RuntimeWarning: choosing nvals = [6, 7] , DFA with less than ten data points is extremely unreliable\n",
      "  warnings.warn(msg.format(nvals), RuntimeWarning)\n",
      "/opt/anaconda3/lib/python3.11/site-packages/nolds/measures.py:2160: RuntimeWarning: choosing nvals = [4, 5] , DFA with less than ten data points is extremely unreliable\n",
      "  warnings.warn(msg.format(nvals), RuntimeWarning)\n",
      "/opt/anaconda3/lib/python3.11/site-packages/nolds/measures.py:51: RuntimeWarning: RANSAC did not reach consensus, using numpy's polyfit\n",
      "  warnings.warn(\n",
      "/opt/anaconda3/lib/python3.11/site-packages/nolds/measures.py:2160: RuntimeWarning: choosing nvals = [6, 7] , DFA with less than ten data points is extremely unreliable\n",
      "  warnings.warn(msg.format(nvals), RuntimeWarning)\n",
      "/opt/anaconda3/lib/python3.11/site-packages/nolds/measures.py:2160: RuntimeWarning: choosing nvals = [7, 8] , DFA with less than ten data points is extremely unreliable\n",
      "  warnings.warn(msg.format(nvals), RuntimeWarning)\n",
      "/opt/anaconda3/lib/python3.11/site-packages/nolds/measures.py:51: RuntimeWarning: RANSAC did not reach consensus, using numpy's polyfit\n",
      "  warnings.warn(\n",
      "/opt/anaconda3/lib/python3.11/site-packages/nolds/measures.py:2160: RuntimeWarning: choosing nvals = [5, 6] , DFA with less than ten data points is extremely unreliable\n",
      "  warnings.warn(msg.format(nvals), RuntimeWarning)\n",
      "/opt/anaconda3/lib/python3.11/site-packages/nolds/measures.py:51: RuntimeWarning: RANSAC did not reach consensus, using numpy's polyfit\n",
      "  warnings.warn(\n",
      "/opt/anaconda3/lib/python3.11/site-packages/nolds/measures.py:2160: RuntimeWarning: choosing nvals = [7, 8] , DFA with less than ten data points is extremely unreliable\n",
      "  warnings.warn(msg.format(nvals), RuntimeWarning)\n",
      "/opt/anaconda3/lib/python3.11/site-packages/nolds/measures.py:51: RuntimeWarning: RANSAC did not reach consensus, using numpy's polyfit\n",
      "  warnings.warn(\n",
      "/opt/anaconda3/lib/python3.11/site-packages/nolds/measures.py:2160: RuntimeWarning: choosing nvals = [7, 8] , DFA with less than ten data points is extremely unreliable\n",
      "  warnings.warn(msg.format(nvals), RuntimeWarning)\n",
      "/opt/anaconda3/lib/python3.11/site-packages/nolds/measures.py:51: RuntimeWarning: RANSAC did not reach consensus, using numpy's polyfit\n",
      "  warnings.warn(\n",
      "/opt/anaconda3/lib/python3.11/site-packages/nolds/measures.py:2160: RuntimeWarning: choosing nvals = [6, 7] , DFA with less than ten data points is extremely unreliable\n",
      "  warnings.warn(msg.format(nvals), RuntimeWarning)\n",
      "/opt/anaconda3/lib/python3.11/site-packages/nolds/measures.py:51: RuntimeWarning: RANSAC did not reach consensus, using numpy's polyfit\n",
      "  warnings.warn(\n",
      "/opt/anaconda3/lib/python3.11/site-packages/nolds/measures.py:2160: RuntimeWarning: choosing nvals = [4, 5] , DFA with less than ten data points is extremely unreliable\n",
      "  warnings.warn(msg.format(nvals), RuntimeWarning)\n",
      "/opt/anaconda3/lib/python3.11/site-packages/nolds/measures.py:2160: RuntimeWarning: choosing nvals = [8, 9] , DFA with less than ten data points is extremely unreliable\n",
      "  warnings.warn(msg.format(nvals), RuntimeWarning)\n",
      "/opt/anaconda3/lib/python3.11/site-packages/nolds/measures.py:51: RuntimeWarning: RANSAC did not reach consensus, using numpy's polyfit\n",
      "  warnings.warn(\n",
      "/opt/anaconda3/lib/python3.11/site-packages/nolds/measures.py:2160: RuntimeWarning: choosing nvals = [4, 5] , DFA with less than ten data points is extremely unreliable\n",
      "  warnings.warn(msg.format(nvals), RuntimeWarning)\n",
      "/opt/anaconda3/lib/python3.11/site-packages/nolds/measures.py:2160: RuntimeWarning: choosing nvals = [6, 7] , DFA with less than ten data points is extremely unreliable\n",
      "  warnings.warn(msg.format(nvals), RuntimeWarning)\n",
      "/opt/anaconda3/lib/python3.11/site-packages/nolds/measures.py:51: RuntimeWarning: RANSAC did not reach consensus, using numpy's polyfit\n",
      "  warnings.warn(\n",
      "/opt/anaconda3/lib/python3.11/site-packages/nolds/measures.py:2160: RuntimeWarning: choosing nvals = [4, 5] , DFA with less than ten data points is extremely unreliable\n",
      "  warnings.warn(msg.format(nvals), RuntimeWarning)\n",
      "/opt/anaconda3/lib/python3.11/site-packages/nolds/measures.py:2160: RuntimeWarning: choosing nvals = [6, 7] , DFA with less than ten data points is extremely unreliable\n",
      "  warnings.warn(msg.format(nvals), RuntimeWarning)\n",
      "/opt/anaconda3/lib/python3.11/site-packages/nolds/measures.py:51: RuntimeWarning: RANSAC did not reach consensus, using numpy's polyfit\n",
      "  warnings.warn(\n",
      "/opt/anaconda3/lib/python3.11/site-packages/nolds/measures.py:2160: RuntimeWarning: choosing nvals = [4, 5] , DFA with less than ten data points is extremely unreliable\n",
      "  warnings.warn(msg.format(nvals), RuntimeWarning)\n",
      "/opt/anaconda3/lib/python3.11/site-packages/nolds/measures.py:51: RuntimeWarning: RANSAC did not reach consensus, using numpy's polyfit\n",
      "  warnings.warn(\n",
      "/opt/anaconda3/lib/python3.11/site-packages/nolds/measures.py:2160: RuntimeWarning: choosing nvals = [4, 5] , DFA with less than ten data points is extremely unreliable\n",
      "  warnings.warn(msg.format(nvals), RuntimeWarning)\n",
      "/opt/anaconda3/lib/python3.11/site-packages/nolds/measures.py:51: RuntimeWarning: RANSAC did not reach consensus, using numpy's polyfit\n",
      "  warnings.warn(\n",
      "/opt/anaconda3/lib/python3.11/site-packages/nolds/measures.py:2160: RuntimeWarning: choosing nvals = [4, 5] , DFA with less than ten data points is extremely unreliable\n",
      "  warnings.warn(msg.format(nvals), RuntimeWarning)\n",
      "/opt/anaconda3/lib/python3.11/site-packages/nolds/measures.py:2160: RuntimeWarning: choosing nvals = [5, 6] , DFA with less than ten data points is extremely unreliable\n",
      "  warnings.warn(msg.format(nvals), RuntimeWarning)\n",
      "/opt/anaconda3/lib/python3.11/site-packages/nolds/measures.py:51: RuntimeWarning: RANSAC did not reach consensus, using numpy's polyfit\n",
      "  warnings.warn(\n",
      "/opt/anaconda3/lib/python3.11/site-packages/nolds/measures.py:2160: RuntimeWarning: choosing nvals = [6, 7] , DFA with less than ten data points is extremely unreliable\n",
      "  warnings.warn(msg.format(nvals), RuntimeWarning)\n",
      "/opt/anaconda3/lib/python3.11/site-packages/nolds/measures.py:2160: RuntimeWarning: choosing nvals = [5, 6] , DFA with less than ten data points is extremely unreliable\n",
      "  warnings.warn(msg.format(nvals), RuntimeWarning)\n",
      "/opt/anaconda3/lib/python3.11/site-packages/nolds/measures.py:51: RuntimeWarning: RANSAC did not reach consensus, using numpy's polyfit\n",
      "  warnings.warn(\n",
      "/opt/anaconda3/lib/python3.11/site-packages/nolds/measures.py:2160: RuntimeWarning: choosing nvals = [5, 6] , DFA with less than ten data points is extremely unreliable\n",
      "  warnings.warn(msg.format(nvals), RuntimeWarning)\n",
      "/opt/anaconda3/lib/python3.11/site-packages/nolds/measures.py:2160: RuntimeWarning: choosing nvals = [7, 8] , DFA with less than ten data points is extremely unreliable\n",
      "  warnings.warn(msg.format(nvals), RuntimeWarning)\n",
      "/opt/anaconda3/lib/python3.11/site-packages/nolds/measures.py:51: RuntimeWarning: RANSAC did not reach consensus, using numpy's polyfit\n",
      "  warnings.warn(\n",
      "/opt/anaconda3/lib/python3.11/site-packages/nolds/measures.py:2160: RuntimeWarning: choosing nvals = [7, 8] , DFA with less than ten data points is extremely unreliable\n",
      "  warnings.warn(msg.format(nvals), RuntimeWarning)\n",
      "/opt/anaconda3/lib/python3.11/site-packages/nolds/measures.py:2160: RuntimeWarning: choosing nvals = [5, 6] , DFA with less than ten data points is extremely unreliable\n",
      "  warnings.warn(msg.format(nvals), RuntimeWarning)\n",
      "/opt/anaconda3/lib/python3.11/site-packages/nolds/measures.py:2160: RuntimeWarning: choosing nvals = [6, 7] , DFA with less than ten data points is extremely unreliable\n",
      "  warnings.warn(msg.format(nvals), RuntimeWarning)\n",
      "/opt/anaconda3/lib/python3.11/site-packages/nolds/measures.py:51: RuntimeWarning: RANSAC did not reach consensus, using numpy's polyfit\n",
      "  warnings.warn(\n",
      "/opt/anaconda3/lib/python3.11/site-packages/nolds/measures.py:2160: RuntimeWarning: choosing nvals = [4, 5] , DFA with less than ten data points is extremely unreliable\n",
      "  warnings.warn(msg.format(nvals), RuntimeWarning)\n",
      "/opt/anaconda3/lib/python3.11/site-packages/nolds/measures.py:51: RuntimeWarning: RANSAC did not reach consensus, using numpy's polyfit\n",
      "  warnings.warn(\n",
      "/opt/anaconda3/lib/python3.11/site-packages/nolds/measures.py:2160: RuntimeWarning: choosing nvals = [3, 4] , DFA with less than ten data points is extremely unreliable\n",
      "  warnings.warn(msg.format(nvals), RuntimeWarning)\n",
      "/opt/anaconda3/lib/python3.11/site-packages/nolds/measures.py:51: RuntimeWarning: RANSAC did not reach consensus, using numpy's polyfit\n",
      "  warnings.warn(\n",
      "/opt/anaconda3/lib/python3.11/site-packages/nolds/measures.py:2160: RuntimeWarning: choosing nvals = [3, 4] , DFA with less than ten data points is extremely unreliable\n",
      "  warnings.warn(msg.format(nvals), RuntimeWarning)\n",
      "/opt/anaconda3/lib/python3.11/site-packages/nolds/measures.py:2160: RuntimeWarning: choosing nvals = [5, 6] , DFA with less than ten data points is extremely unreliable\n",
      "  warnings.warn(msg.format(nvals), RuntimeWarning)\n",
      "/opt/anaconda3/lib/python3.11/site-packages/nolds/measures.py:2160: RuntimeWarning: choosing nvals = [6, 7] , DFA with less than ten data points is extremely unreliable\n",
      "  warnings.warn(msg.format(nvals), RuntimeWarning)\n",
      "/opt/anaconda3/lib/python3.11/site-packages/nolds/measures.py:51: RuntimeWarning: RANSAC did not reach consensus, using numpy's polyfit\n",
      "  warnings.warn(\n",
      "/opt/anaconda3/lib/python3.11/site-packages/nolds/measures.py:2160: RuntimeWarning: choosing nvals = [5, 6] , DFA with less than ten data points is extremely unreliable\n",
      "  warnings.warn(msg.format(nvals), RuntimeWarning)\n",
      "/opt/anaconda3/lib/python3.11/site-packages/nolds/measures.py:51: RuntimeWarning: RANSAC did not reach consensus, using numpy's polyfit\n",
      "  warnings.warn(\n",
      "/opt/anaconda3/lib/python3.11/site-packages/nolds/measures.py:2160: RuntimeWarning: choosing nvals = [3, 4] , DFA with less than ten data points is extremely unreliable\n",
      "  warnings.warn(msg.format(nvals), RuntimeWarning)\n",
      "/opt/anaconda3/lib/python3.11/site-packages/nolds/measures.py:51: RuntimeWarning: RANSAC did not reach consensus, using numpy's polyfit\n",
      "  warnings.warn(\n",
      "/opt/anaconda3/lib/python3.11/site-packages/nolds/measures.py:2160: RuntimeWarning: choosing nvals = [6, 7] , DFA with less than ten data points is extremely unreliable\n",
      "  warnings.warn(msg.format(nvals), RuntimeWarning)\n",
      "/opt/anaconda3/lib/python3.11/site-packages/nolds/measures.py:2160: RuntimeWarning: choosing nvals = [7, 8] , DFA with less than ten data points is extremely unreliable\n",
      "  warnings.warn(msg.format(nvals), RuntimeWarning)\n",
      "/opt/anaconda3/lib/python3.11/site-packages/nolds/measures.py:2160: RuntimeWarning: choosing nvals = [5, 6] , DFA with less than ten data points is extremely unreliable\n",
      "  warnings.warn(msg.format(nvals), RuntimeWarning)\n",
      "/opt/anaconda3/lib/python3.11/site-packages/nolds/measures.py:51: RuntimeWarning: RANSAC did not reach consensus, using numpy's polyfit\n",
      "  warnings.warn(\n",
      "/opt/anaconda3/lib/python3.11/site-packages/nolds/measures.py:2160: RuntimeWarning: choosing nvals = [6, 7] , DFA with less than ten data points is extremely unreliable\n",
      "  warnings.warn(msg.format(nvals), RuntimeWarning)\n",
      "/opt/anaconda3/lib/python3.11/site-packages/nolds/measures.py:51: RuntimeWarning: RANSAC did not reach consensus, using numpy's polyfit\n",
      "  warnings.warn(\n",
      "/opt/anaconda3/lib/python3.11/site-packages/nolds/measures.py:2160: RuntimeWarning: choosing nvals = [4, 5] , DFA with less than ten data points is extremely unreliable\n",
      "  warnings.warn(msg.format(nvals), RuntimeWarning)\n",
      "/opt/anaconda3/lib/python3.11/site-packages/nolds/measures.py:2160: RuntimeWarning: choosing nvals = [3, 4] , DFA with less than ten data points is extremely unreliable\n",
      "  warnings.warn(msg.format(nvals), RuntimeWarning)\n",
      "/opt/anaconda3/lib/python3.11/site-packages/nolds/measures.py:2160: RuntimeWarning: choosing nvals = [5, 6] , DFA with less than ten data points is extremely unreliable\n",
      "  warnings.warn(msg.format(nvals), RuntimeWarning)\n",
      "/opt/anaconda3/lib/python3.11/site-packages/nolds/measures.py:2160: RuntimeWarning: choosing nvals = [7, 8] , DFA with less than ten data points is extremely unreliable\n",
      "  warnings.warn(msg.format(nvals), RuntimeWarning)\n",
      "/opt/anaconda3/lib/python3.11/site-packages/nolds/measures.py:51: RuntimeWarning: RANSAC did not reach consensus, using numpy's polyfit\n",
      "  warnings.warn(\n",
      "/opt/anaconda3/lib/python3.11/site-packages/nolds/measures.py:2160: RuntimeWarning: choosing nvals = [6, 7] , DFA with less than ten data points is extremely unreliable\n",
      "  warnings.warn(msg.format(nvals), RuntimeWarning)\n",
      "/opt/anaconda3/lib/python3.11/site-packages/nolds/measures.py:51: RuntimeWarning: RANSAC did not reach consensus, using numpy's polyfit\n",
      "  warnings.warn(\n",
      "/opt/anaconda3/lib/python3.11/site-packages/nolds/measures.py:2160: RuntimeWarning: choosing nvals = [3, 4] , DFA with less than ten data points is extremely unreliable\n",
      "  warnings.warn(msg.format(nvals), RuntimeWarning)\n",
      "/opt/anaconda3/lib/python3.11/site-packages/nolds/measures.py:51: RuntimeWarning: RANSAC did not reach consensus, using numpy's polyfit\n",
      "  warnings.warn(\n",
      "/opt/anaconda3/lib/python3.11/site-packages/nolds/measures.py:2160: RuntimeWarning: choosing nvals = [5, 6] , DFA with less than ten data points is extremely unreliable\n",
      "  warnings.warn(msg.format(nvals), RuntimeWarning)\n",
      "/opt/anaconda3/lib/python3.11/site-packages/nolds/measures.py:51: RuntimeWarning: RANSAC did not reach consensus, using numpy's polyfit\n",
      "  warnings.warn(\n",
      "/opt/anaconda3/lib/python3.11/site-packages/nolds/measures.py:2160: RuntimeWarning: choosing nvals = [7, 8] , DFA with less than ten data points is extremely unreliable\n",
      "  warnings.warn(msg.format(nvals), RuntimeWarning)\n",
      "/opt/anaconda3/lib/python3.11/site-packages/nolds/measures.py:51: RuntimeWarning: RANSAC did not reach consensus, using numpy's polyfit\n",
      "  warnings.warn(\n",
      "/opt/anaconda3/lib/python3.11/site-packages/nolds/measures.py:2160: RuntimeWarning: choosing nvals = [5, 6] , DFA with less than ten data points is extremely unreliable\n",
      "  warnings.warn(msg.format(nvals), RuntimeWarning)\n",
      "/opt/anaconda3/lib/python3.11/site-packages/nolds/measures.py:2160: RuntimeWarning: choosing nvals = [4, 5] , DFA with less than ten data points is extremely unreliable\n",
      "  warnings.warn(msg.format(nvals), RuntimeWarning)\n",
      "/opt/anaconda3/lib/python3.11/site-packages/nolds/measures.py:2160: RuntimeWarning: choosing nvals = [3, 4] , DFA with less than ten data points is extremely unreliable\n",
      "  warnings.warn(msg.format(nvals), RuntimeWarning)\n",
      "/opt/anaconda3/lib/python3.11/site-packages/nolds/measures.py:2160: RuntimeWarning: choosing nvals = [5, 6] , DFA with less than ten data points is extremely unreliable\n",
      "  warnings.warn(msg.format(nvals), RuntimeWarning)\n",
      "/opt/anaconda3/lib/python3.11/site-packages/nolds/measures.py:51: RuntimeWarning: RANSAC did not reach consensus, using numpy's polyfit\n",
      "  warnings.warn(\n",
      "/opt/anaconda3/lib/python3.11/site-packages/nolds/measures.py:2160: RuntimeWarning: choosing nvals = [3, 4] , DFA with less than ten data points is extremely unreliable\n",
      "  warnings.warn(msg.format(nvals), RuntimeWarning)\n",
      "/opt/anaconda3/lib/python3.11/site-packages/nolds/measures.py:2160: RuntimeWarning: choosing nvals = [5, 6] , DFA with less than ten data points is extremely unreliable\n",
      "  warnings.warn(msg.format(nvals), RuntimeWarning)\n",
      "/opt/anaconda3/lib/python3.11/site-packages/nolds/measures.py:2160: RuntimeWarning: choosing nvals = [8, 9] , DFA with less than ten data points is extremely unreliable\n",
      "  warnings.warn(msg.format(nvals), RuntimeWarning)\n",
      "/opt/anaconda3/lib/python3.11/site-packages/nolds/measures.py:51: RuntimeWarning: RANSAC did not reach consensus, using numpy's polyfit\n",
      "  warnings.warn(\n",
      "/opt/anaconda3/lib/python3.11/site-packages/nolds/measures.py:2160: RuntimeWarning: choosing nvals = [7, 8] , DFA with less than ten data points is extremely unreliable\n",
      "  warnings.warn(msg.format(nvals), RuntimeWarning)\n",
      "/opt/anaconda3/lib/python3.11/site-packages/nolds/measures.py:51: RuntimeWarning: RANSAC did not reach consensus, using numpy's polyfit\n",
      "  warnings.warn(\n",
      "/opt/anaconda3/lib/python3.11/site-packages/nolds/measures.py:2160: RuntimeWarning: choosing nvals = [6, 7] , DFA with less than ten data points is extremely unreliable\n",
      "  warnings.warn(msg.format(nvals), RuntimeWarning)\n",
      "/opt/anaconda3/lib/python3.11/site-packages/nolds/measures.py:2160: RuntimeWarning: choosing nvals = [3, 4] , DFA with less than ten data points is extremely unreliable\n",
      "  warnings.warn(msg.format(nvals), RuntimeWarning)\n",
      "/opt/anaconda3/lib/python3.11/site-packages/nolds/measures.py:51: RuntimeWarning: RANSAC did not reach consensus, using numpy's polyfit\n",
      "  warnings.warn(\n",
      "/opt/anaconda3/lib/python3.11/site-packages/nolds/measures.py:2160: RuntimeWarning: choosing nvals = [3, 4] , DFA with less than ten data points is extremely unreliable\n",
      "  warnings.warn(msg.format(nvals), RuntimeWarning)\n",
      "/opt/anaconda3/lib/python3.11/site-packages/nolds/measures.py:2160: RuntimeWarning: choosing nvals = [5, 6] , DFA with less than ten data points is extremely unreliable\n",
      "  warnings.warn(msg.format(nvals), RuntimeWarning)\n",
      "/opt/anaconda3/lib/python3.11/site-packages/nolds/measures.py:51: RuntimeWarning: RANSAC did not reach consensus, using numpy's polyfit\n",
      "  warnings.warn(\n",
      "/opt/anaconda3/lib/python3.11/site-packages/nolds/measures.py:2160: RuntimeWarning: choosing nvals = [5, 6] , DFA with less than ten data points is extremely unreliable\n",
      "  warnings.warn(msg.format(nvals), RuntimeWarning)\n",
      "/opt/anaconda3/lib/python3.11/site-packages/nolds/measures.py:51: RuntimeWarning: RANSAC did not reach consensus, using numpy's polyfit\n",
      "  warnings.warn(\n",
      "/opt/anaconda3/lib/python3.11/site-packages/nolds/measures.py:2160: RuntimeWarning: choosing nvals = [4, 5] , DFA with less than ten data points is extremely unreliable\n",
      "  warnings.warn(msg.format(nvals), RuntimeWarning)\n",
      "/opt/anaconda3/lib/python3.11/site-packages/nolds/measures.py:51: RuntimeWarning: RANSAC did not reach consensus, using numpy's polyfit\n",
      "  warnings.warn(\n",
      "/opt/anaconda3/lib/python3.11/site-packages/nolds/measures.py:2160: RuntimeWarning: choosing nvals = [4, 5] , DFA with less than ten data points is extremely unreliable\n",
      "  warnings.warn(msg.format(nvals), RuntimeWarning)\n",
      "/opt/anaconda3/lib/python3.11/site-packages/nolds/measures.py:51: RuntimeWarning: RANSAC did not reach consensus, using numpy's polyfit\n",
      "  warnings.warn(\n",
      "/opt/anaconda3/lib/python3.11/site-packages/nolds/measures.py:2160: RuntimeWarning: choosing nvals = [6, 7] , DFA with less than ten data points is extremely unreliable\n",
      "  warnings.warn(msg.format(nvals), RuntimeWarning)\n",
      "/opt/anaconda3/lib/python3.11/site-packages/nolds/measures.py:51: RuntimeWarning: RANSAC did not reach consensus, using numpy's polyfit\n",
      "  warnings.warn(\n",
      "/opt/anaconda3/lib/python3.11/site-packages/nolds/measures.py:2160: RuntimeWarning: choosing nvals = [5, 6] , DFA with less than ten data points is extremely unreliable\n",
      "  warnings.warn(msg.format(nvals), RuntimeWarning)\n",
      "/opt/anaconda3/lib/python3.11/site-packages/nolds/measures.py:51: RuntimeWarning: RANSAC did not reach consensus, using numpy's polyfit\n",
      "  warnings.warn(\n",
      "/opt/anaconda3/lib/python3.11/site-packages/nolds/measures.py:2160: RuntimeWarning: choosing nvals = [3, 4] , DFA with less than ten data points is extremely unreliable\n",
      "  warnings.warn(msg.format(nvals), RuntimeWarning)\n",
      "/opt/anaconda3/lib/python3.11/site-packages/nolds/measures.py:51: RuntimeWarning: RANSAC did not reach consensus, using numpy's polyfit\n",
      "  warnings.warn(\n",
      "/opt/anaconda3/lib/python3.11/site-packages/nolds/measures.py:2160: RuntimeWarning: choosing nvals = [4, 5] , DFA with less than ten data points is extremely unreliable\n",
      "  warnings.warn(msg.format(nvals), RuntimeWarning)\n",
      "/opt/anaconda3/lib/python3.11/site-packages/nolds/measures.py:51: RuntimeWarning: RANSAC did not reach consensus, using numpy's polyfit\n",
      "  warnings.warn(\n",
      "/opt/anaconda3/lib/python3.11/site-packages/nolds/measures.py:2160: RuntimeWarning: choosing nvals = [6, 7] , DFA with less than ten data points is extremely unreliable\n",
      "  warnings.warn(msg.format(nvals), RuntimeWarning)\n",
      "/opt/anaconda3/lib/python3.11/site-packages/nolds/measures.py:2160: RuntimeWarning: choosing nvals = [5, 6] , DFA with less than ten data points is extremely unreliable\n",
      "  warnings.warn(msg.format(nvals), RuntimeWarning)\n",
      "/opt/anaconda3/lib/python3.11/site-packages/nolds/measures.py:2160: RuntimeWarning: choosing nvals = [8, 9] , DFA with less than ten data points is extremely unreliable\n",
      "  warnings.warn(msg.format(nvals), RuntimeWarning)\n",
      "/opt/anaconda3/lib/python3.11/site-packages/nolds/measures.py:51: RuntimeWarning: RANSAC did not reach consensus, using numpy's polyfit\n",
      "  warnings.warn(\n",
      "/opt/anaconda3/lib/python3.11/site-packages/nolds/measures.py:2160: RuntimeWarning: choosing nvals = [5, 6] , DFA with less than ten data points is extremely unreliable\n",
      "  warnings.warn(msg.format(nvals), RuntimeWarning)\n",
      "/opt/anaconda3/lib/python3.11/site-packages/nolds/measures.py:2160: RuntimeWarning: choosing nvals = [6, 7] , DFA with less than ten data points is extremely unreliable\n",
      "  warnings.warn(msg.format(nvals), RuntimeWarning)\n",
      "/opt/anaconda3/lib/python3.11/site-packages/nolds/measures.py:51: RuntimeWarning: RANSAC did not reach consensus, using numpy's polyfit\n",
      "  warnings.warn(\n",
      "/opt/anaconda3/lib/python3.11/site-packages/nolds/measures.py:2160: RuntimeWarning: choosing nvals = [7, 8] , DFA with less than ten data points is extremely unreliable\n",
      "  warnings.warn(msg.format(nvals), RuntimeWarning)\n",
      "/opt/anaconda3/lib/python3.11/site-packages/nolds/measures.py:51: RuntimeWarning: RANSAC did not reach consensus, using numpy's polyfit\n",
      "  warnings.warn(\n",
      "/opt/anaconda3/lib/python3.11/site-packages/nolds/measures.py:2160: RuntimeWarning: choosing nvals = [4, 5] , DFA with less than ten data points is extremely unreliable\n",
      "  warnings.warn(msg.format(nvals), RuntimeWarning)\n",
      "/opt/anaconda3/lib/python3.11/site-packages/nolds/measures.py:2160: RuntimeWarning: choosing nvals = [7, 8] , DFA with less than ten data points is extremely unreliable\n",
      "  warnings.warn(msg.format(nvals), RuntimeWarning)\n",
      "/opt/anaconda3/lib/python3.11/site-packages/nolds/measures.py:51: RuntimeWarning: RANSAC did not reach consensus, using numpy's polyfit\n",
      "  warnings.warn(\n",
      "/opt/anaconda3/lib/python3.11/site-packages/nolds/measures.py:2160: RuntimeWarning: choosing nvals = [6, 7] , DFA with less than ten data points is extremely unreliable\n",
      "  warnings.warn(msg.format(nvals), RuntimeWarning)\n",
      "/opt/anaconda3/lib/python3.11/site-packages/nolds/measures.py:51: RuntimeWarning: RANSAC did not reach consensus, using numpy's polyfit\n",
      "  warnings.warn(\n",
      "/opt/anaconda3/lib/python3.11/site-packages/nolds/measures.py:2160: RuntimeWarning: choosing nvals = [5, 6] , DFA with less than ten data points is extremely unreliable\n",
      "  warnings.warn(msg.format(nvals), RuntimeWarning)\n",
      "/opt/anaconda3/lib/python3.11/site-packages/nolds/measures.py:51: RuntimeWarning: RANSAC did not reach consensus, using numpy's polyfit\n",
      "  warnings.warn(\n",
      "/opt/anaconda3/lib/python3.11/site-packages/nolds/measures.py:2160: RuntimeWarning: choosing nvals = [5, 6] , DFA with less than ten data points is extremely unreliable\n",
      "  warnings.warn(msg.format(nvals), RuntimeWarning)\n",
      "/opt/anaconda3/lib/python3.11/site-packages/nolds/measures.py:2160: RuntimeWarning: choosing nvals = [6, 7] , DFA with less than ten data points is extremely unreliable\n",
      "  warnings.warn(msg.format(nvals), RuntimeWarning)\n"
     ]
    }
   ],
   "source": [
    "import nolds\n",
    "\n",
    "# Функция для расчета параметра Херста с DFA\n",
    "def calculate_dfa(series):\n",
    "    if len(series) < 5:  # Проверяем, хватает ли данных\n",
    "        return None\n",
    "    return nolds.dfa(series.values)\n",
    "\n",
    "# Группируем данные по identifier и считаем DFA\n",
    "df_hurst = df_half_year.groupby(\"identifier\")[\"rating_numeric_cat\"].apply(calculate_dfa).reset_index()\n",
    "df_hurst = df_hurst.rename(columns={\"rating_numeric_cat\": \"H_DFA\"})\n",
    "\n",
    "print(df_hurst.head(20))"
   ]
  },
  {
   "cell_type": "code",
   "execution_count": 8,
   "id": "4869a7d4-c795-435e-989e-948befe7a0f4",
   "metadata": {},
   "outputs": [],
   "source": [
    "import numpy as np\n",
    "import pandas as pd\n",
    "import matplotlib.pyplot as plt\n",
    "# Функция для расчета параметра Херста вручную\n",
    "def hurst_exponent(ts):\n",
    "    ts = np.array(ts)\n",
    "    N = len(ts)\n",
    "    print(ts, N)\n",
    "    if N < 10:  # Проверка на достаточное количество точек\n",
    "        return np.nan\n",
    "    \n",
    "    # Вычисляем среднее и центрируем ряд\n",
    "    mean_ts = np.mean(ts)\n",
    "    dev = ts - mean_ts\n",
    "\n",
    "    # Кумулятивная сумма\n",
    "    Z = np.cumsum(dev)\n",
    "    \n",
    "    # Размах (R) - разница между max и min кумулятивной суммы\n",
    "    R = np.max(Z) - np.min(Z)\n",
    "    if R == 0 and S == 0:\n",
    "        R = 0.0001\n",
    "        S = 0.00009\n",
    "        # return (np.log(RS_ratio) / np.log(np.pi * (N / 2))) * correction_factor\n",
    "        return np.nan\n",
    "\n",
    "    # Среднеквадратическое отклонение (S)\n",
    "    S = np.std(ts)\n",
    "    \n",
    "    if S == 0:\n",
    "        return np.nan\n",
    "    \n",
    "    # Вычисляем R/S\n",
    "    RS = R / S\n",
    "    \n",
    "    # Параметр Херста по логарифмическому масштабу\n",
    "    H = np.log(RS) / np.log(N)\n",
    "    \n",
    "    return H\n",
    "    \n",
    "def hurst_exponent_neyman(ts):\n",
    "    ts = np.array(ts)\n",
    "    N = len(ts)\n",
    "\n",
    "    if N < 3:\n",
    "        return np.nan  # Недостаточно данных\n",
    "\n",
    "    # Вычисление размаха R и стандартного отклонения S\n",
    "    mean_ts = np.mean(ts)\n",
    "    dev = ts - mean_ts\n",
    "    Z = np.cumsum(dev)\n",
    "    \n",
    "    R = np.max(Z) - np.min(Z)\n",
    "    S = np.std(ts)\n",
    "\n",
    "    if R == 0 or S == 0:\n",
    "        R = 0.001\n",
    "        S = 0.0009\n",
    "        RS_ratio = R / S\n",
    "        return np.nan\n",
    "    # Поправка Неймана\n",
    "    RS_ratio = R / S\n",
    "    correction_factor = (-0.0011 * np.log(N) + 1.0136)\n",
    "    \n",
    "    H_T = (np.log(RS_ratio) / np.log(np.pi * (N / 2))) * correction_factor\n",
    "\n",
    "    return H_T\n",
    "    \n",
    "# Группируем данные по identifier и применяем Hurst\n",
    "# hurst_results = (\n",
    "#     df_half_year.groupby(\"identifier\")[\"rating_numeric_cat\"]\n",
    "#     .apply(hurst_exponent)\n",
    "#     .reset_index()\n",
    "# )\n",
    "hurst_ = []\n",
    "# for inn in df_half_year[\"identifier\"].unique():\n",
    "#     temp_ = df_half_year[df_half_year[\"identifier\"] == inn]\n",
    "#     if len(temp_) >= 10: \n",
    "#         hurst_.append(hurst_exponent(temp_[\"rating_numeric_cat\"].values))\n",
    "#     elif len(temp_) >= 5 and len(temp_) < 10:\n",
    "#         hurst_.append(hurst_exponent_neyman(temp_[\"rating_numeric_cat\"].values))\n",
    "counter = 0\n",
    "check = pd.DataFrame()\n",
    "for inn in df_half_year[\"identifier\"].unique():\n",
    "    temp_ = df_half_year[df_half_year[\"identifier\"] == inn]\n",
    "    if len(temp_) >= 10:\n",
    "        check = pd.concat([check, temp_])\n",
    "        rating_ = temp_[\"rating_numeric_cat\"].values\n",
    "        # temp_[\"untrated\"] = check[\"rating_numeric_cat\"].apply(lambda x: (x - check[\"rating_numeric_cat\"].mean()\n",
    "# Заменим -inf на NaN для корректной визуализации\n",
    "# hurst_results.replace(-np.inf, np.nan, inplace=True)\n",
    "\n",
    "# # Удаляем NaN перед построением графиков\n",
    "# hurst_results = df_hurst.dropna()\n",
    "# hurst_results.columns = [\"identifier\", \"hurst_exponent\"]\n",
    "# hurst_ = hurst_results[\"hurst_exponent\"]\n",
    "# print(hurst_results.head(20))\n",
    "# plt.plot(pd.DataFrame(hurst_).dropna())\n",
    "# plt.title(pd.DataFrame(hurst_).dropna().mean())"
   ]
  },
  {
   "cell_type": "code",
   "execution_count": 10,
   "id": "e7ef48b1-a118-4afe-ac95-5c5da470b42a",
   "metadata": {},
   "outputs": [
    {
     "name": "stderr",
     "output_type": "stream",
     "text": [
      "/var/folders/0w/pg719rr9519435t25t6yf2hm0000gn/T/ipykernel_75590/1218911625.py:7: SettingWithCopyWarning: \n",
      "A value is trying to be set on a copy of a slice from a DataFrame.\n",
      "Try using .loc[row_indexer,col_indexer] = value instead\n",
      "\n",
      "See the caveats in the documentation: https://pandas.pydata.org/pandas-docs/stable/user_guide/indexing.html#returning-a-view-versus-a-copy\n",
      "  temp_[\"untrated\"] = temp_[\"rating_numeric_cat\"].apply(lambda x: (x - temp_[\"rating_numeric_cat\"].mean()))\n",
      "/var/folders/0w/pg719rr9519435t25t6yf2hm0000gn/T/ipykernel_75590/1218911625.py:7: SettingWithCopyWarning: \n",
      "A value is trying to be set on a copy of a slice from a DataFrame.\n",
      "Try using .loc[row_indexer,col_indexer] = value instead\n",
      "\n",
      "See the caveats in the documentation: https://pandas.pydata.org/pandas-docs/stable/user_guide/indexing.html#returning-a-view-versus-a-copy\n",
      "  temp_[\"untrated\"] = temp_[\"rating_numeric_cat\"].apply(lambda x: (x - temp_[\"rating_numeric_cat\"].mean()))\n",
      "/var/folders/0w/pg719rr9519435t25t6yf2hm0000gn/T/ipykernel_75590/1218911625.py:7: SettingWithCopyWarning: \n",
      "A value is trying to be set on a copy of a slice from a DataFrame.\n",
      "Try using .loc[row_indexer,col_indexer] = value instead\n",
      "\n",
      "See the caveats in the documentation: https://pandas.pydata.org/pandas-docs/stable/user_guide/indexing.html#returning-a-view-versus-a-copy\n",
      "  temp_[\"untrated\"] = temp_[\"rating_numeric_cat\"].apply(lambda x: (x - temp_[\"rating_numeric_cat\"].mean()))\n",
      "/var/folders/0w/pg719rr9519435t25t6yf2hm0000gn/T/ipykernel_75590/1218911625.py:7: SettingWithCopyWarning: \n",
      "A value is trying to be set on a copy of a slice from a DataFrame.\n",
      "Try using .loc[row_indexer,col_indexer] = value instead\n",
      "\n",
      "See the caveats in the documentation: https://pandas.pydata.org/pandas-docs/stable/user_guide/indexing.html#returning-a-view-versus-a-copy\n",
      "  temp_[\"untrated\"] = temp_[\"rating_numeric_cat\"].apply(lambda x: (x - temp_[\"rating_numeric_cat\"].mean()))\n",
      "/var/folders/0w/pg719rr9519435t25t6yf2hm0000gn/T/ipykernel_75590/1218911625.py:7: SettingWithCopyWarning: \n",
      "A value is trying to be set on a copy of a slice from a DataFrame.\n",
      "Try using .loc[row_indexer,col_indexer] = value instead\n",
      "\n",
      "See the caveats in the documentation: https://pandas.pydata.org/pandas-docs/stable/user_guide/indexing.html#returning-a-view-versus-a-copy\n",
      "  temp_[\"untrated\"] = temp_[\"rating_numeric_cat\"].apply(lambda x: (x - temp_[\"rating_numeric_cat\"].mean()))\n",
      "/var/folders/0w/pg719rr9519435t25t6yf2hm0000gn/T/ipykernel_75590/1218911625.py:7: SettingWithCopyWarning: \n",
      "A value is trying to be set on a copy of a slice from a DataFrame.\n",
      "Try using .loc[row_indexer,col_indexer] = value instead\n",
      "\n",
      "See the caveats in the documentation: https://pandas.pydata.org/pandas-docs/stable/user_guide/indexing.html#returning-a-view-versus-a-copy\n",
      "  temp_[\"untrated\"] = temp_[\"rating_numeric_cat\"].apply(lambda x: (x - temp_[\"rating_numeric_cat\"].mean()))\n",
      "/var/folders/0w/pg719rr9519435t25t6yf2hm0000gn/T/ipykernel_75590/1218911625.py:7: SettingWithCopyWarning: \n",
      "A value is trying to be set on a copy of a slice from a DataFrame.\n",
      "Try using .loc[row_indexer,col_indexer] = value instead\n",
      "\n",
      "See the caveats in the documentation: https://pandas.pydata.org/pandas-docs/stable/user_guide/indexing.html#returning-a-view-versus-a-copy\n",
      "  temp_[\"untrated\"] = temp_[\"rating_numeric_cat\"].apply(lambda x: (x - temp_[\"rating_numeric_cat\"].mean()))\n",
      "/var/folders/0w/pg719rr9519435t25t6yf2hm0000gn/T/ipykernel_75590/1218911625.py:7: SettingWithCopyWarning: \n",
      "A value is trying to be set on a copy of a slice from a DataFrame.\n",
      "Try using .loc[row_indexer,col_indexer] = value instead\n",
      "\n",
      "See the caveats in the documentation: https://pandas.pydata.org/pandas-docs/stable/user_guide/indexing.html#returning-a-view-versus-a-copy\n",
      "  temp_[\"untrated\"] = temp_[\"rating_numeric_cat\"].apply(lambda x: (x - temp_[\"rating_numeric_cat\"].mean()))\n"
     ]
    }
   ],
   "source": [
    "check_con = []\n",
    "for inn in check[\"identifier\"].unique():\n",
    "    temp_ = check[check[\"identifier\"] == inn]\n",
    "    if len(temp_) >= 10:\n",
    "        # check = pd.concat([check, temp_])\n",
    "        # rating_ = temp_[\"rating_numeric_cat\"].values\n",
    "        temp_[\"untrated\"] = temp_[\"rating_numeric_cat\"].apply(lambda x: (x - temp_[\"rating_numeric_cat\"].mean()))\n",
    "        check_con.append(list(temp_[\"untrated\"].values))"
   ]
  },
  {
   "cell_type": "code",
   "execution_count": 12,
   "id": "6dd8b621-9466-4d27-b445-23f74e057f02",
   "metadata": {},
   "outputs": [
    {
     "data": {
      "text/plain": [
       "[[-0.5999999999999996,\n",
       "  -0.5999999999999996,\n",
       "  -0.5999999999999996,\n",
       "  -0.5999999999999996,\n",
       "  0.40000000000000036,\n",
       "  0.40000000000000036,\n",
       "  0.40000000000000036,\n",
       "  0.40000000000000036,\n",
       "  0.40000000000000036,\n",
       "  0.40000000000000036],\n",
       " [-0.18181818181818166,\n",
       "  0.8181818181818183,\n",
       "  0.8181818181818183,\n",
       "  -0.18181818181818166,\n",
       "  -0.18181818181818166,\n",
       "  -0.18181818181818166,\n",
       "  -0.18181818181818166,\n",
       "  -0.18181818181818166,\n",
       "  -0.18181818181818166,\n",
       "  -0.18181818181818166,\n",
       "  -0.18181818181818166],\n",
       " [-0.7999999999999998,\n",
       "  -0.7999999999999998,\n",
       "  0.20000000000000018,\n",
       "  0.20000000000000018,\n",
       "  0.20000000000000018,\n",
       "  0.20000000000000018,\n",
       "  0.20000000000000018,\n",
       "  0.20000000000000018,\n",
       "  0.20000000000000018,\n",
       "  0.20000000000000018],\n",
       " [-1.0, 0.0, 0.0, 0.0, 1.0, 0.0, 0.0, 0.0, 0.0, 0.0, 0.0],\n",
       " [-0.7999999999999998,\n",
       "  -0.7999999999999998,\n",
       "  0.20000000000000018,\n",
       "  0.20000000000000018,\n",
       "  0.20000000000000018,\n",
       "  0.20000000000000018,\n",
       "  0.20000000000000018,\n",
       "  0.20000000000000018,\n",
       "  0.20000000000000018,\n",
       "  0.20000000000000018],\n",
       " [0.09090909090909083,\n",
       "  -0.9090909090909092,\n",
       "  0.09090909090909083,\n",
       "  0.09090909090909083,\n",
       "  0.09090909090909083,\n",
       "  0.09090909090909083,\n",
       "  0.09090909090909083,\n",
       "  0.09090909090909083,\n",
       "  0.09090909090909083,\n",
       "  0.09090909090909083,\n",
       "  0.09090909090909083],\n",
       " [0.7000000000000002,\n",
       "  -0.2999999999999998,\n",
       "  -0.2999999999999998,\n",
       "  -0.2999999999999998,\n",
       "  -0.2999999999999998,\n",
       "  0.7000000000000002,\n",
       "  0.7000000000000002,\n",
       "  -0.2999999999999998,\n",
       "  -0.2999999999999998,\n",
       "  -0.2999999999999998],\n",
       " [0.3999999999999999,\n",
       "  0.3999999999999999,\n",
       "  0.3999999999999999,\n",
       "  0.3999999999999999,\n",
       "  0.3999999999999999,\n",
       "  0.3999999999999999,\n",
       "  -0.6000000000000001,\n",
       "  -0.6000000000000001,\n",
       "  -0.6000000000000001,\n",
       "  -0.6000000000000001]]"
      ]
     },
     "execution_count": 12,
     "metadata": {},
     "output_type": "execute_result"
    }
   ],
   "source": [
    "check_con"
   ]
  },
  {
   "cell_type": "code",
   "execution_count": 16,
   "id": "3795efd4-a6e7-4c30-a8e2-6804da811a6e",
   "metadata": {},
   "outputs": [],
   "source": [
    "full_ = []\n",
    "for i in check_con:\n",
    "        full_.append(i)"
   ]
  },
  {
   "cell_type": "code",
   "execution_count": 18,
   "id": "03a34313-a80e-443c-a77f-7d0d4045c7cb",
   "metadata": {},
   "outputs": [
    {
     "data": {
      "text/plain": [
       "8"
      ]
     },
     "execution_count": 18,
     "metadata": {},
     "output_type": "execute_result"
    }
   ],
   "source": [
    "len(full_)"
   ]
  },
  {
   "cell_type": "code",
   "execution_count": 22,
   "id": "3ff957ef-1c3a-408a-ad23-b6fe358e040d",
   "metadata": {},
   "outputs": [],
   "source": [
    "full_plot = []\n",
    "for i in full_:\n",
    "    for j in i:\n",
    "        full_plot.append(j)"
   ]
  },
  {
   "cell_type": "code",
   "execution_count": 24,
   "id": "0ca296b7-e017-49b1-8bbf-240df7e66589",
   "metadata": {},
   "outputs": [
    {
     "data": {
      "text/plain": [
       "[-0.5999999999999996,\n",
       " -0.5999999999999996,\n",
       " -0.5999999999999996,\n",
       " -0.5999999999999996,\n",
       " 0.40000000000000036,\n",
       " 0.40000000000000036,\n",
       " 0.40000000000000036,\n",
       " 0.40000000000000036,\n",
       " 0.40000000000000036,\n",
       " 0.40000000000000036,\n",
       " -0.18181818181818166,\n",
       " 0.8181818181818183,\n",
       " 0.8181818181818183,\n",
       " -0.18181818181818166,\n",
       " -0.18181818181818166,\n",
       " -0.18181818181818166,\n",
       " -0.18181818181818166,\n",
       " -0.18181818181818166,\n",
       " -0.18181818181818166,\n",
       " -0.18181818181818166,\n",
       " -0.18181818181818166,\n",
       " -0.7999999999999998,\n",
       " -0.7999999999999998,\n",
       " 0.20000000000000018,\n",
       " 0.20000000000000018,\n",
       " 0.20000000000000018,\n",
       " 0.20000000000000018,\n",
       " 0.20000000000000018,\n",
       " 0.20000000000000018,\n",
       " 0.20000000000000018,\n",
       " 0.20000000000000018,\n",
       " -1.0,\n",
       " 0.0,\n",
       " 0.0,\n",
       " 0.0,\n",
       " 1.0,\n",
       " 0.0,\n",
       " 0.0,\n",
       " 0.0,\n",
       " 0.0,\n",
       " 0.0,\n",
       " 0.0,\n",
       " -0.7999999999999998,\n",
       " -0.7999999999999998,\n",
       " 0.20000000000000018,\n",
       " 0.20000000000000018,\n",
       " 0.20000000000000018,\n",
       " 0.20000000000000018,\n",
       " 0.20000000000000018,\n",
       " 0.20000000000000018,\n",
       " 0.20000000000000018,\n",
       " 0.20000000000000018,\n",
       " 0.09090909090909083,\n",
       " -0.9090909090909092,\n",
       " 0.09090909090909083,\n",
       " 0.09090909090909083,\n",
       " 0.09090909090909083,\n",
       " 0.09090909090909083,\n",
       " 0.09090909090909083,\n",
       " 0.09090909090909083,\n",
       " 0.09090909090909083,\n",
       " 0.09090909090909083,\n",
       " 0.09090909090909083,\n",
       " 0.7000000000000002,\n",
       " -0.2999999999999998,\n",
       " -0.2999999999999998,\n",
       " -0.2999999999999998,\n",
       " -0.2999999999999998,\n",
       " 0.7000000000000002,\n",
       " 0.7000000000000002,\n",
       " -0.2999999999999998,\n",
       " -0.2999999999999998,\n",
       " -0.2999999999999998,\n",
       " 0.3999999999999999,\n",
       " 0.3999999999999999,\n",
       " 0.3999999999999999,\n",
       " 0.3999999999999999,\n",
       " 0.3999999999999999,\n",
       " 0.3999999999999999,\n",
       " -0.6000000000000001,\n",
       " -0.6000000000000001,\n",
       " -0.6000000000000001,\n",
       " -0.6000000000000001]"
      ]
     },
     "execution_count": 24,
     "metadata": {},
     "output_type": "execute_result"
    }
   ],
   "source": [
    "full_plot"
   ]
  },
  {
   "cell_type": "code",
   "execution_count": 26,
   "id": "d48c81de-5579-45c3-9cec-06a78f22a8c1",
   "metadata": {},
   "outputs": [
    {
     "data": {
      "text/plain": [
       "[<matplotlib.lines.Line2D at 0x12be20210>]"
      ]
     },
     "execution_count": 26,
     "metadata": {},
     "output_type": "execute_result"
    },
    {
     "data": {
      "image/png": "[encoded data removed]",
      "text/plain": [
       "<Figure size 640x480 with 1 Axes>"
      ]
     },
     "metadata": {},
     "output_type": "display_data"
    }
   ],
   "source": [
    "plt.plot(full_plot)"
   ]
  },
  {
   "cell_type": "code",
   "execution_count": 44,
   "id": "8d54f19d-0440-4d0e-9ab1-52f0ae76ac2e",
   "metadata": {},
   "outputs": [],
   "source": [
    "R = np.max(full_plot) - np.min(full_plot)"
   ]
  },
  {
   "cell_type": "code",
   "execution_count": 46,
   "id": "6d74b808-996e-43f2-b507-9a3f37e86f91",
   "metadata": {},
   "outputs": [],
   "source": [
    "S = np.array(full_plot).std()"
   ]
  },
  {
   "cell_type": "code",
   "execution_count": 48,
   "id": "6137e57d-01e2-4c70-b390-055e207c3625",
   "metadata": {},
   "outputs": [
    {
     "data": {
      "text/plain": [
       "2.0"
      ]
     },
     "execution_count": 48,
     "metadata": {},
     "output_type": "execute_result"
    }
   ],
   "source": [
    "R"
   ]
  },
  {
   "cell_type": "code",
   "execution_count": 50,
   "id": "7ef4e8d4-2e83-4fc6-b035-d9d71d6d9058",
   "metadata": {},
   "outputs": [
    {
     "data": {
      "text/plain": [
       "0.4200610188815307"
      ]
     },
     "execution_count": 50,
     "metadata": {},
     "output_type": "execute_result"
    }
   ],
   "source": [
    "S"
   ]
  },
  {
   "cell_type": "code",
   "execution_count": 54,
   "id": "d2ad5978-a45d-4906-b84c-17426672745a",
   "metadata": {},
   "outputs": [],
   "source": [
    "# Вычисляем R/S\n",
    "RS = R / S\n",
    "\n",
    "# Параметр Херста по логарифмическому масштабу\n",
    "H = np.log(RS) / np.log(len(full_plot))"
   ]
  },
  {
   "cell_type": "code",
   "execution_count": 56,
   "id": "611ab386-4b8a-4a84-af92-c7bd23d6d3f1",
   "metadata": {},
   "outputs": [
    {
     "data": {
      "text/plain": [
       "0.35314749145117746"
      ]
     },
     "execution_count": 56,
     "metadata": {},
     "output_type": "execute_result"
    }
   ],
   "source": [
    "H"
   ]
  },
  {
   "cell_type": "code",
   "execution_count": 34,
   "id": "bc4a609a-2c63-48de-99b7-b9b1c099ac2c",
   "metadata": {},
   "outputs": [],
   "source": [
    "Z = np.cumsum(full_plot)"
   ]
  },
  {
   "cell_type": "code",
   "execution_count": 36,
   "id": "04e099ff-86eb-4529-a305-9ce27b43871b",
   "metadata": {},
   "outputs": [],
   "source": [
    "R = np.max(Z) - np.min(Z)\n",
    "S = np.std(Z)"
   ]
  },
  {
   "cell_type": "code",
   "execution_count": 38,
   "id": "b7c8777f-aec1-4d47-a9dc-e70f1d4c3e76",
   "metadata": {},
   "outputs": [
    {
     "data": {
      "text/plain": [
       "4.800000000000008"
      ]
     },
     "execution_count": 38,
     "metadata": {},
     "output_type": "execute_result"
    }
   ],
   "source": [
    "R"
   ]
  },
  {
   "cell_type": "code",
   "execution_count": 40,
   "id": "49d3147a-8c44-41a6-b79b-c93880cd30c5",
   "metadata": {},
   "outputs": [
    {
     "data": {
      "text/plain": [
       "0.9187624076063041"
      ]
     },
     "execution_count": 40,
     "metadata": {},
     "output_type": "execute_result"
    }
   ],
   "source": [
    "S"
   ]
  },
  {
   "cell_type": "code",
   "execution_count": 42,
   "id": "077cda1c-1c37-48dd-91ff-59c2a906c365",
   "metadata": {},
   "outputs": [
    {
     "data": {
      "text/plain": [
       "[<matplotlib.lines.Line2D at 0x15aea8350>]"
      ]
     },
     "execution_count": 42,
     "metadata": {},
     "output_type": "execute_result"
    },
    {
     "data": {
      "image/png": "[encoded data removed]",
      "text/plain": [
       "<Figure size 640x480 with 1 Axes>"
      ]
     },
     "metadata": {},
     "output_type": "display_data"
    }
   ],
   "source": [
    "plt.plot(Z)"
   ]
  },
  {
   "cell_type": "code",
   "execution_count": 58,
   "id": "66b48d7d-ddd5-448c-953a-de4571d38cc3",
   "metadata": {},
   "outputs": [],
   "source": [
    "import math"
   ]
  },
  {
   "cell_type": "code",
   "execution_count": 62,
   "id": "5ac9fe9d-713e-4450-b1b4-5f41dfe44192",
   "metadata": {},
   "outputs": [
    {
     "data": {
      "text/plain": [
       "83"
      ]
     },
     "execution_count": 62,
     "metadata": {},
     "output_type": "execute_result"
    }
   ],
   "source": [
    "len(Z)"
   ]
  },
  {
   "cell_type": "code",
   "execution_count": null,
   "id": "809f7b0d-afed-48f5-8b6c-dde3abd6c8d6",
   "metadata": {},
   "outputs": [],
   "source": [
    "for i in len(Z):\n",
    "    temp_ = Z[1: "
   ]
  },
  {
   "cell_type": "code",
   "execution_count": 27,
   "id": "b225380e-82e0-42fa-8ca2-d16cba44adf8",
   "metadata": {},
   "outputs": [
    {
     "data": {
      "text/plain": [
       "8"
      ]
     },
     "execution_count": 27,
     "metadata": {},
     "output_type": "execute_result"
    }
   ],
   "source": [
    "counter"
   ]
  },
  {
   "cell_type": "code",
   "execution_count": 8,
   "id": "9da00e3f-f308-49bf-a884-0305661311b3",
   "metadata": {},
   "outputs": [
    {
     "data": {
      "text/html": [
       "<div>\n",
       "<style scoped>\n",
       "    .dataframe tbody tr th:only-of-type {\n",
       "        vertical-align: middle;\n",
       "    }\n",
       "\n",
       "    .dataframe tbody tr th {\n",
       "        vertical-align: top;\n",
       "    }\n",
       "\n",
       "    .dataframe thead th {\n",
       "        text-align: right;\n",
       "    }\n",
       "</style>\n",
       "<table border=\"1\" class=\"dataframe\">\n",
       "  <thead>\n",
       "    <tr style=\"text-align: right;\">\n",
       "      <th></th>\n",
       "      <th>identifier</th>\n",
       "      <th>_half_year</th>\n",
       "      <th>rating_numeric_cat</th>\n",
       "      <th>_ro_type</th>\n",
       "      <th>agency</th>\n",
       "    </tr>\n",
       "  </thead>\n",
       "  <tbody>\n",
       "    <tr>\n",
       "      <th>633</th>\n",
       "      <td>2539013067</td>\n",
       "      <td>2017-H2</td>\n",
       "      <td>4</td>\n",
       "      <td>CBNK - кредитная организация</td>\n",
       "      <td>Expert RA</td>\n",
       "    </tr>\n",
       "    <tr>\n",
       "      <th>634</th>\n",
       "      <td>2539013067</td>\n",
       "      <td>2018-H1</td>\n",
       "      <td>4</td>\n",
       "      <td>CBNK - кредитная организация</td>\n",
       "      <td>Expert RA</td>\n",
       "    </tr>\n",
       "    <tr>\n",
       "      <th>635</th>\n",
       "      <td>2539013067</td>\n",
       "      <td>2019-H1</td>\n",
       "      <td>4</td>\n",
       "      <td>CBNK - кредитная организация</td>\n",
       "      <td>Expert RA</td>\n",
       "    </tr>\n",
       "    <tr>\n",
       "      <th>636</th>\n",
       "      <td>2539013067</td>\n",
       "      <td>2020-H1</td>\n",
       "      <td>4</td>\n",
       "      <td>CBNK - кредитная организация</td>\n",
       "      <td>Expert RA</td>\n",
       "    </tr>\n",
       "    <tr>\n",
       "      <th>637</th>\n",
       "      <td>2539013067</td>\n",
       "      <td>2021-H1</td>\n",
       "      <td>4</td>\n",
       "      <td>CBNK - кредитная организация</td>\n",
       "      <td>Expert RA</td>\n",
       "    </tr>\n",
       "    <tr>\n",
       "      <th>638</th>\n",
       "      <td>2539013067</td>\n",
       "      <td>2022-H1</td>\n",
       "      <td>4</td>\n",
       "      <td>CBNK - кредитная организация</td>\n",
       "      <td>Expert RA</td>\n",
       "    </tr>\n",
       "    <tr>\n",
       "      <th>639</th>\n",
       "      <td>2539013067</td>\n",
       "      <td>2023-H1</td>\n",
       "      <td>3</td>\n",
       "      <td>CBNK - кредитная организация</td>\n",
       "      <td>Expert RA</td>\n",
       "    </tr>\n",
       "    <tr>\n",
       "      <th>641</th>\n",
       "      <td>2539013067</td>\n",
       "      <td>2024-H1</td>\n",
       "      <td>3</td>\n",
       "      <td>CBNK - кредитная организация</td>\n",
       "      <td>Expert RA</td>\n",
       "    </tr>\n",
       "  </tbody>\n",
       "</table>\n",
       "</div>"
      ],
      "text/plain": [
       "     identifier _half_year  rating_numeric_cat                      _ro_type  \\\n",
       "633  2539013067    2017-H2                   4  CBNK - кредитная организация   \n",
       "634  2539013067    2018-H1                   4  CBNK - кредитная организация   \n",
       "635  2539013067    2019-H1                   4  CBNK - кредитная организация   \n",
       "636  2539013067    2020-H1                   4  CBNK - кредитная организация   \n",
       "637  2539013067    2021-H1                   4  CBNK - кредитная организация   \n",
       "638  2539013067    2022-H1                   4  CBNK - кредитная организация   \n",
       "639  2539013067    2023-H1                   3  CBNK - кредитная организация   \n",
       "641  2539013067    2024-H1                   3  CBNK - кредитная организация   \n",
       "\n",
       "        agency  \n",
       "633  Expert RA  \n",
       "634  Expert RA  \n",
       "635  Expert RA  \n",
       "636  Expert RA  \n",
       "637  Expert RA  \n",
       "638  Expert RA  \n",
       "639  Expert RA  \n",
       "641  Expert RA  "
      ]
     },
     "execution_count": 8,
     "metadata": {},
     "output_type": "execute_result"
    }
   ],
   "source": [
    "df_half_year[df_half_year[\"identifier\"] == 2539013067]"
   ]
  },
  {
   "cell_type": "markdown",
   "id": "0e3de79e-1887-4886-bf38-180208445563",
   "metadata": {},
   "source": [
    "Check DFA"
   ]
  },
  {
   "cell_type": "code",
   "execution_count": 10,
   "id": "3ded68a2-6fa1-4352-a2bd-750a0807f0c6",
   "metadata": {},
   "outputs": [
    {
     "data": {
      "text/plain": [
       "1"
      ]
     },
     "execution_count": 10,
     "metadata": {},
     "output_type": "execute_result"
    }
   ],
   "source": [
    "len(temp_)"
   ]
  },
  {
   "cell_type": "code",
   "execution_count": 68,
   "id": "e9a21d15-25d6-472f-b8d3-6d23defece25",
   "metadata": {},
   "outputs": [
    {
     "data": {
      "text/plain": [
       "array([ 541016015, 1835047032, 3803202031, 3906098008, 5617000264,\n",
       "       7727065444, 7735057951, 7750004305])"
      ]
     },
     "execution_count": 68,
     "metadata": {},
     "output_type": "execute_result"
    }
   ],
   "source": [
    "check[\"identifier\"].unique()"
   ]
  },
  {
   "cell_type": "code",
   "execution_count": 70,
   "id": "48453632-4d42-4d40-a27f-1f9ddfbb0a11",
   "metadata": {},
   "outputs": [
    {
     "data": {
      "text/html": [
       "<div>\n",
       "<style scoped>\n",
       "    .dataframe tbody tr th:only-of-type {\n",
       "        vertical-align: middle;\n",
       "    }\n",
       "\n",
       "    .dataframe tbody tr th {\n",
       "        vertical-align: top;\n",
       "    }\n",
       "\n",
       "    .dataframe thead th {\n",
       "        text-align: right;\n",
       "    }\n",
       "</style>\n",
       "<table border=\"1\" class=\"dataframe\">\n",
       "  <thead>\n",
       "    <tr style=\"text-align: right;\">\n",
       "      <th></th>\n",
       "      <th>identifier</th>\n",
       "      <th>_half_year</th>\n",
       "      <th>rating_numeric_cat</th>\n",
       "      <th>_ro_type</th>\n",
       "      <th>agency</th>\n",
       "    </tr>\n",
       "  </thead>\n",
       "  <tbody>\n",
       "    <tr>\n",
       "      <th>76</th>\n",
       "      <td>541016015</td>\n",
       "      <td>2017-H1</td>\n",
       "      <td>5</td>\n",
       "      <td>CBNK - кредитная организация</td>\n",
       "      <td>Expert RA</td>\n",
       "    </tr>\n",
       "    <tr>\n",
       "      <th>77</th>\n",
       "      <td>541016015</td>\n",
       "      <td>2017-H2</td>\n",
       "      <td>5</td>\n",
       "      <td>CBNK - кредитная организация</td>\n",
       "      <td>Expert RA</td>\n",
       "    </tr>\n",
       "    <tr>\n",
       "      <th>78</th>\n",
       "      <td>541016015</td>\n",
       "      <td>2018-H2</td>\n",
       "      <td>5</td>\n",
       "      <td>CBNK - кредитная организация</td>\n",
       "      <td>Expert RA</td>\n",
       "    </tr>\n",
       "    <tr>\n",
       "      <th>79</th>\n",
       "      <td>541016015</td>\n",
       "      <td>2019-H1</td>\n",
       "      <td>5</td>\n",
       "      <td>CBNK - кредитная организация</td>\n",
       "      <td>Expert RA</td>\n",
       "    </tr>\n",
       "    <tr>\n",
       "      <th>80</th>\n",
       "      <td>541016015</td>\n",
       "      <td>2019-H2</td>\n",
       "      <td>6</td>\n",
       "      <td>CBNK - кредитная организация</td>\n",
       "      <td>Expert RA</td>\n",
       "    </tr>\n",
       "    <tr>\n",
       "      <th>81</th>\n",
       "      <td>541016015</td>\n",
       "      <td>2020-H2</td>\n",
       "      <td>6</td>\n",
       "      <td>CBNK - кредитная организация</td>\n",
       "      <td>Expert RA</td>\n",
       "    </tr>\n",
       "    <tr>\n",
       "      <th>82</th>\n",
       "      <td>541016015</td>\n",
       "      <td>2021-H2</td>\n",
       "      <td>6</td>\n",
       "      <td>CBNK - кредитная организация</td>\n",
       "      <td>Expert RA</td>\n",
       "    </tr>\n",
       "    <tr>\n",
       "      <th>83</th>\n",
       "      <td>541016015</td>\n",
       "      <td>2022-H2</td>\n",
       "      <td>6</td>\n",
       "      <td>CBNK - кредитная организация</td>\n",
       "      <td>Expert RA</td>\n",
       "    </tr>\n",
       "    <tr>\n",
       "      <th>84</th>\n",
       "      <td>541016015</td>\n",
       "      <td>2023-H2</td>\n",
       "      <td>6</td>\n",
       "      <td>CBNK - кредитная организация</td>\n",
       "      <td>Expert RA</td>\n",
       "    </tr>\n",
       "    <tr>\n",
       "      <th>85</th>\n",
       "      <td>541016015</td>\n",
       "      <td>2024-H2</td>\n",
       "      <td>6</td>\n",
       "      <td>CBNK - кредитная организация</td>\n",
       "      <td>Expert RA</td>\n",
       "    </tr>\n",
       "  </tbody>\n",
       "</table>\n",
       "</div>"
      ],
      "text/plain": [
       "    identifier _half_year  rating_numeric_cat                      _ro_type  \\\n",
       "76   541016015    2017-H1                   5  CBNK - кредитная организация   \n",
       "77   541016015    2017-H2                   5  CBNK - кредитная организация   \n",
       "78   541016015    2018-H2                   5  CBNK - кредитная организация   \n",
       "79   541016015    2019-H1                   5  CBNK - кредитная организация   \n",
       "80   541016015    2019-H2                   6  CBNK - кредитная организация   \n",
       "81   541016015    2020-H2                   6  CBNK - кредитная организация   \n",
       "82   541016015    2021-H2                   6  CBNK - кредитная организация   \n",
       "83   541016015    2022-H2                   6  CBNK - кредитная организация   \n",
       "84   541016015    2023-H2                   6  CBNK - кредитная организация   \n",
       "85   541016015    2024-H2                   6  CBNK - кредитная организация   \n",
       "\n",
       "       agency  \n",
       "76  Expert RA  \n",
       "77  Expert RA  \n",
       "78  Expert RA  \n",
       "79  Expert RA  \n",
       "80  Expert RA  \n",
       "81  Expert RA  \n",
       "82  Expert RA  \n",
       "83  Expert RA  \n",
       "84  Expert RA  \n",
       "85  Expert RA  "
      ]
     },
     "execution_count": 70,
     "metadata": {},
     "output_type": "execute_result"
    }
   ],
   "source": [
    "check.head(10)"
   ]
  },
  {
   "cell_type": "code",
   "execution_count": 80,
   "id": "3a10bf9e-20db-4eff-8590-3e10fe460e45",
   "metadata": {},
   "outputs": [
    {
     "ename": "TypeError",
     "evalue": "_LocationIndexer.__call__() takes from 1 to 2 positional arguments but 4 were given",
     "output_type": "error",
     "traceback": [
      "\u001b[0;31m---------------------------------------------------------------------------\u001b[0m",
      "\u001b[0;31mTypeError\u001b[0m                                 Traceback (most recent call last)",
      "Cell \u001b[0;32mIn[80], line 1\u001b[0m\n\u001b[0;32m----> 1\u001b[0m check\u001b[38;5;241m.\u001b[39mloc([\u001b[38;5;124m\"\u001b[39m\u001b[38;5;124midentifier\u001b[39m\u001b[38;5;124m\"\u001b[39m], [\u001b[38;5;124m\"\u001b[39m\u001b[38;5;124m_date\u001b[39m\u001b[38;5;124m\"\u001b[39m], [\u001b[38;5;124m\"\u001b[39m\u001b[38;5;124mrating_numeric_cat\u001b[39m\u001b[38;5;124m\"\u001b[39m])\n",
      "\u001b[0;31mTypeError\u001b[0m: _LocationIndexer.__call__() takes from 1 to 2 positional arguments but 4 were given"
     ]
    }
   ],
   "source": [
    "check[\"identifier\", \"half_year\""
   ]
  },
  {
   "cell_type": "code",
   "execution_count": 90,
   "id": "d054f867-2888-46e4-8421-5e8237000f69",
   "metadata": {},
   "outputs": [
    {
     "ename": "ValueError",
     "evalue": "could not convert string to float: '2017-H1'",
     "output_type": "error",
     "traceback": [
      "\u001b[0;31m---------------------------------------------------------------------------\u001b[0m",
      "\u001b[0;31mValueError\u001b[0m                                Traceback (most recent call last)",
      "Cell \u001b[0;32mIn[90], line 5\u001b[0m\n\u001b[1;32m      2\u001b[0m df \u001b[38;5;241m=\u001b[39m pd\u001b[38;5;241m.\u001b[39mDataFrame(test_)\u001b[38;5;241m.\u001b[39mset_index(\u001b[38;5;124m\"\u001b[39m\u001b[38;5;124midentifier\u001b[39m\u001b[38;5;124m\"\u001b[39m)  \u001b[38;5;66;03m# Убираем год из индексов\u001b[39;00m\n\u001b[1;32m      4\u001b[0m \u001b[38;5;66;03m# 🔹 Считаем корреляционную матрицу\u001b[39;00m\n\u001b[0;32m----> 5\u001b[0m corr_matrix \u001b[38;5;241m=\u001b[39m df\u001b[38;5;241m.\u001b[39mcorr(method\u001b[38;5;241m=\u001b[39m\u001b[38;5;124m\"\u001b[39m\u001b[38;5;124mpearson\u001b[39m\u001b[38;5;124m\"\u001b[39m)  \u001b[38;5;66;03m# \"pearson\" = линейная корреляция\u001b[39;00m\n\u001b[1;32m      7\u001b[0m \u001b[38;5;66;03m# 🔹 Визуализируем\u001b[39;00m\n\u001b[1;32m      8\u001b[0m plt\u001b[38;5;241m.\u001b[39mfigure(figsize\u001b[38;5;241m=\u001b[39m(\u001b[38;5;241m8\u001b[39m, \u001b[38;5;241m6\u001b[39m))\n",
      "File \u001b[0;32m/opt/anaconda3/lib/python3.11/site-packages/pandas/core/frame.py:11049\u001b[0m, in \u001b[0;36mDataFrame.corr\u001b[0;34m(self, method, min_periods, numeric_only)\u001b[0m\n\u001b[1;32m  11047\u001b[0m cols \u001b[38;5;241m=\u001b[39m data\u001b[38;5;241m.\u001b[39mcolumns\n\u001b[1;32m  11048\u001b[0m idx \u001b[38;5;241m=\u001b[39m cols\u001b[38;5;241m.\u001b[39mcopy()\n\u001b[0;32m> 11049\u001b[0m mat \u001b[38;5;241m=\u001b[39m data\u001b[38;5;241m.\u001b[39mto_numpy(dtype\u001b[38;5;241m=\u001b[39m\u001b[38;5;28mfloat\u001b[39m, na_value\u001b[38;5;241m=\u001b[39mnp\u001b[38;5;241m.\u001b[39mnan, copy\u001b[38;5;241m=\u001b[39m\u001b[38;5;28;01mFalse\u001b[39;00m)\n\u001b[1;32m  11051\u001b[0m \u001b[38;5;28;01mif\u001b[39;00m method \u001b[38;5;241m==\u001b[39m \u001b[38;5;124m\"\u001b[39m\u001b[38;5;124mpearson\u001b[39m\u001b[38;5;124m\"\u001b[39m:\n\u001b[1;32m  11052\u001b[0m     correl \u001b[38;5;241m=\u001b[39m libalgos\u001b[38;5;241m.\u001b[39mnancorr(mat, minp\u001b[38;5;241m=\u001b[39mmin_periods)\n",
      "File \u001b[0;32m/opt/anaconda3/lib/python3.11/site-packages/pandas/core/frame.py:1993\u001b[0m, in \u001b[0;36mDataFrame.to_numpy\u001b[0;34m(self, dtype, copy, na_value)\u001b[0m\n\u001b[1;32m   1991\u001b[0m \u001b[38;5;28;01mif\u001b[39;00m dtype \u001b[38;5;129;01mis\u001b[39;00m \u001b[38;5;129;01mnot\u001b[39;00m \u001b[38;5;28;01mNone\u001b[39;00m:\n\u001b[1;32m   1992\u001b[0m     dtype \u001b[38;5;241m=\u001b[39m np\u001b[38;5;241m.\u001b[39mdtype(dtype)\n\u001b[0;32m-> 1993\u001b[0m result \u001b[38;5;241m=\u001b[39m \u001b[38;5;28mself\u001b[39m\u001b[38;5;241m.\u001b[39m_mgr\u001b[38;5;241m.\u001b[39mas_array(dtype\u001b[38;5;241m=\u001b[39mdtype, copy\u001b[38;5;241m=\u001b[39mcopy, na_value\u001b[38;5;241m=\u001b[39mna_value)\n\u001b[1;32m   1994\u001b[0m \u001b[38;5;28;01mif\u001b[39;00m result\u001b[38;5;241m.\u001b[39mdtype \u001b[38;5;129;01mis\u001b[39;00m \u001b[38;5;129;01mnot\u001b[39;00m dtype:\n\u001b[1;32m   1995\u001b[0m     result \u001b[38;5;241m=\u001b[39m np\u001b[38;5;241m.\u001b[39masarray(result, dtype\u001b[38;5;241m=\u001b[39mdtype)\n",
      "File \u001b[0;32m/opt/anaconda3/lib/python3.11/site-packages/pandas/core/internals/managers.py:1694\u001b[0m, in \u001b[0;36mBlockManager.as_array\u001b[0;34m(self, dtype, copy, na_value)\u001b[0m\n\u001b[1;32m   1692\u001b[0m         arr\u001b[38;5;241m.\u001b[39mflags\u001b[38;5;241m.\u001b[39mwriteable \u001b[38;5;241m=\u001b[39m \u001b[38;5;28;01mFalse\u001b[39;00m\n\u001b[1;32m   1693\u001b[0m \u001b[38;5;28;01melse\u001b[39;00m:\n\u001b[0;32m-> 1694\u001b[0m     arr \u001b[38;5;241m=\u001b[39m \u001b[38;5;28mself\u001b[39m\u001b[38;5;241m.\u001b[39m_interleave(dtype\u001b[38;5;241m=\u001b[39mdtype, na_value\u001b[38;5;241m=\u001b[39mna_value)\n\u001b[1;32m   1695\u001b[0m     \u001b[38;5;66;03m# The underlying data was copied within _interleave, so no need\u001b[39;00m\n\u001b[1;32m   1696\u001b[0m     \u001b[38;5;66;03m# to further copy if copy=True or setting na_value\u001b[39;00m\n\u001b[1;32m   1698\u001b[0m \u001b[38;5;28;01mif\u001b[39;00m na_value \u001b[38;5;129;01mis\u001b[39;00m lib\u001b[38;5;241m.\u001b[39mno_default:\n",
      "File \u001b[0;32m/opt/anaconda3/lib/python3.11/site-packages/pandas/core/internals/managers.py:1753\u001b[0m, in \u001b[0;36mBlockManager._interleave\u001b[0;34m(self, dtype, na_value)\u001b[0m\n\u001b[1;32m   1751\u001b[0m     \u001b[38;5;28;01melse\u001b[39;00m:\n\u001b[1;32m   1752\u001b[0m         arr \u001b[38;5;241m=\u001b[39m blk\u001b[38;5;241m.\u001b[39mget_values(dtype)\n\u001b[0;32m-> 1753\u001b[0m     result[rl\u001b[38;5;241m.\u001b[39mindexer] \u001b[38;5;241m=\u001b[39m arr\n\u001b[1;32m   1754\u001b[0m     itemmask[rl\u001b[38;5;241m.\u001b[39mindexer] \u001b[38;5;241m=\u001b[39m \u001b[38;5;241m1\u001b[39m\n\u001b[1;32m   1756\u001b[0m \u001b[38;5;28;01mif\u001b[39;00m \u001b[38;5;129;01mnot\u001b[39;00m itemmask\u001b[38;5;241m.\u001b[39mall():\n",
      "\u001b[0;31mValueError\u001b[0m: could not convert string to float: '2017-H1'"
     ]
    }
   ],
   "source": [
    "test_ = check[[\"identifier\", \"_half_year\", \"rating_numeric_cat\"]]\n",
    "df = pd.DataFrame(test_).set_index(\"identifier\")  # Убираем год из индексов\n",
    "\n",
    "# 🔹 Считаем корреляционную матрицу\n",
    "corr_matrix = df.corr(method=\"pearson\")  # \"pearson\" = линейная корреляция\n",
    "\n",
    "# 🔹 Визуализируем\n",
    "plt.figure(figsize=(8, 6))\n",
    "sns.heatmap(corr_matrix, annot=True, cmap=\"coolwarm\", fmt=\".2f\", linewidths=0.5)\n",
    "plt.title(\"Корреляционная матрица рейтингов компаний\")\n",
    "plt.show()"
   ]
  },
  {
   "cell_type": "code",
   "execution_count": null,
   "id": "5faa3d78-c509-4747-bd74-a4b7e0501918",
   "metadata": {},
   "outputs": [],
   "source": []
  }
 ],
 "metadata": {
  "kernelspec": {
   "display_name": "Python 3 (ipykernel)",
   "language": "python",
   "name": "python3"
  },
  "language_info": {
   "codemirror_mode": {
    "name": "ipython",
    "version": 3
   },
   "file_extension": ".py",
   "mimetype": "text/x-python",
   "name": "python",
   "nbconvert_exporter": "python",
   "pygments_lexer": "ipython3",
   "version": "3.11.7"
  }
 },
 "nbformat": 4,
 "nbformat_minor": 5
}
